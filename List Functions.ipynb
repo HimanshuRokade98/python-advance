{
 "cells": [
  {
   "cell_type": "markdown",
   "id": "07d67237-a14a-4cc1-ac24-97eaabcc6ec7",
   "metadata": {},
   "source": [
    "## Append\n",
    "* Append function is used add an item at the end of the list"
   ]
  },
  {
   "cell_type": "code",
   "execution_count": 1,
   "id": "28bbb967-6c2e-414e-aa3a-15deaa1e2905",
   "metadata": {},
   "outputs": [],
   "source": [
    "ap = ['a1','a2','a3']"
   ]
  },
  {
   "cell_type": "code",
   "execution_count": 2,
   "id": "f04398c6-7e2a-4f20-a079-010bc02d9825",
   "metadata": {},
   "outputs": [
    {
     "data": {
      "text/plain": [
       "['a1', 'a2', 'a3']"
      ]
     },
     "execution_count": 2,
     "metadata": {},
     "output_type": "execute_result"
    }
   ],
   "source": [
    "ap"
   ]
  },
  {
   "cell_type": "code",
   "execution_count": 3,
   "id": "b5a445c2-6dd4-44f2-a758-69fec6aae99b",
   "metadata": {},
   "outputs": [],
   "source": [
    "ap.append('a4')"
   ]
  },
  {
   "cell_type": "code",
   "execution_count": 4,
   "id": "8be07d05-bc78-4aa8-b683-39e7afbcf3b0",
   "metadata": {},
   "outputs": [
    {
     "data": {
      "text/plain": [
       "['a1', 'a2', 'a3', 'a4']"
      ]
     },
     "execution_count": 4,
     "metadata": {},
     "output_type": "execute_result"
    }
   ],
   "source": [
    "ap"
   ]
  },
  {
   "cell_type": "markdown",
   "id": "899b2037-a355-4592-8f0d-3991ed57308a",
   "metadata": {},
   "source": [
    "## Clear \n",
    "* Clear function is used to erase of the element inside the list"
   ]
  },
  {
   "cell_type": "code",
   "execution_count": 5,
   "id": "bb9ba7d9-d9da-4f1b-88cb-c3ae25c9e5b7",
   "metadata": {},
   "outputs": [],
   "source": [
    "cl = ['cl1','cl2','cl3',1,2,3]"
   ]
  },
  {
   "cell_type": "code",
   "execution_count": 6,
   "id": "b06ff28d-686c-4484-aa1e-d5f029b090a5",
   "metadata": {},
   "outputs": [
    {
     "name": "stdout",
     "output_type": "stream",
     "text": [
      "['cl1', 'cl2', 'cl3', 1, 2, 3]\n"
     ]
    }
   ],
   "source": [
    "print (cl)"
   ]
  },
  {
   "cell_type": "code",
   "execution_count": 9,
   "id": "065193c4-26f6-4e1a-9bf3-5e3cf1ae2f9b",
   "metadata": {},
   "outputs": [],
   "source": [
    "cl.clear()"
   ]
  },
  {
   "cell_type": "code",
   "execution_count": 10,
   "id": "92a16926-e6a5-4d27-adc3-fe33eb4b40f5",
   "metadata": {},
   "outputs": [
    {
     "data": {
      "text/plain": [
       "[]"
      ]
     },
     "execution_count": 10,
     "metadata": {},
     "output_type": "execute_result"
    }
   ],
   "source": [
    "cl"
   ]
  },
  {
   "cell_type": "markdown",
   "id": "d55590bd-f61e-49ca-ac8b-ceb6244a45ec",
   "metadata": {},
   "source": [
    "## Remove\n",
    "* Remove function is used to delete a specific element from the list"
   ]
  },
  {
   "cell_type": "code",
   "execution_count": 12,
   "id": "7a2a6b34-fa82-4f98-a493-05e3ef097717",
   "metadata": {},
   "outputs": [],
   "source": [
    "re =['name1','name2','name3','name4',12345]"
   ]
  },
  {
   "cell_type": "code",
   "execution_count": 13,
   "id": "5506ffef-404b-4390-aea6-85f7bf29606b",
   "metadata": {},
   "outputs": [
    {
     "name": "stdout",
     "output_type": "stream",
     "text": [
      "['name1', 'name2', 'name3', 'name4', 12345]\n"
     ]
    }
   ],
   "source": [
    "print (re)"
   ]
  },
  {
   "cell_type": "code",
   "execution_count": 15,
   "id": "6750d2c8-b435-4f8c-9f31-1d8695192286",
   "metadata": {},
   "outputs": [],
   "source": [
    "re.remove(12345)"
   ]
  },
  {
   "cell_type": "code",
   "execution_count": 16,
   "id": "c3f7adfe-48d4-4226-a0e7-c482fe19d0c9",
   "metadata": {},
   "outputs": [
    {
     "name": "stdout",
     "output_type": "stream",
     "text": [
      "['name1', 'name2', 'name3', 'name4']\n"
     ]
    }
   ],
   "source": [
    "print(re)"
   ]
  },
  {
   "cell_type": "markdown",
   "id": "f6827abb-1441-4a75-b5f7-0c79ed3af3b5",
   "metadata": {},
   "source": [
    "## Del \n",
    "* Del function is used to delete an object from the list"
   ]
  },
  {
   "cell_type": "code",
   "execution_count": 19,
   "id": "b6969765-f8b3-47e6-b3f8-8680119d045b",
   "metadata": {},
   "outputs": [],
   "source": [
    "de = ['user1','user2','name','user3','user4']"
   ]
  },
  {
   "cell_type": "code",
   "execution_count": 20,
   "id": "e5c4f62b-c183-4c41-be1f-923f3cc7e2f8",
   "metadata": {},
   "outputs": [
    {
     "name": "stdout",
     "output_type": "stream",
     "text": [
      "['user1', 'user2', 'name', 'user3', 'user4']\n"
     ]
    }
   ],
   "source": [
    "print(de)"
   ]
  },
  {
   "cell_type": "code",
   "execution_count": 22,
   "id": "7eb34676-6332-4747-9ef4-704df4eab034",
   "metadata": {},
   "outputs": [],
   "source": [
    "del(de[2])"
   ]
  },
  {
   "cell_type": "code",
   "execution_count": 23,
   "id": "8a0af743-2143-426c-8c78-28c4645fbe73",
   "metadata": {},
   "outputs": [
    {
     "name": "stdout",
     "output_type": "stream",
     "text": [
      "['user1', 'user2', 'user3', 'user4']\n"
     ]
    }
   ],
   "source": [
    "print (de)"
   ]
  },
  {
   "cell_type": "markdown",
   "id": "dc49101a-92c2-4da8-8c67-e68d973dd333",
   "metadata": {},
   "source": [
    "## Copy\n",
    "* Copy function returns a copy of the list "
   ]
  },
  {
   "cell_type": "code",
   "execution_count": 24,
   "id": "e3e8b5f1-1ce8-4a07-be89-e098db112345",
   "metadata": {},
   "outputs": [],
   "source": [
    "cp = ['name1','name2','name3',123,456]"
   ]
  },
  {
   "cell_type": "code",
   "execution_count": 25,
   "id": "32b0f104-6e8c-46d0-af26-d82ca3c046d4",
   "metadata": {},
   "outputs": [
    {
     "name": "stdout",
     "output_type": "stream",
     "text": [
      "['name1', 'name2', 'name3', 123, 456]\n"
     ]
    }
   ],
   "source": [
    "print (cp)"
   ]
  },
  {
   "cell_type": "code",
   "execution_count": 28,
   "id": "53b3d894-fca1-43df-9bd7-89c014c1dc20",
   "metadata": {},
   "outputs": [
    {
     "data": {
      "text/plain": [
       "['name1', 'name2', 'name3', 123, 456]"
      ]
     },
     "execution_count": 28,
     "metadata": {},
     "output_type": "execute_result"
    }
   ],
   "source": [
    "cp.copy()"
   ]
  },
  {
   "cell_type": "markdown",
   "id": "04186543-9a64-4bc2-a676-3b19613c6fee",
   "metadata": {},
   "source": [
    "## Insert\n",
    "* Insert function is used to a element to a specific position"
   ]
  },
  {
   "cell_type": "code",
   "execution_count": 29,
   "id": "66ac3039-b44a-41f0-825b-129262542233",
   "metadata": {},
   "outputs": [],
   "source": [
    "ins = ['user1','user2','user3']"
   ]
  },
  {
   "cell_type": "code",
   "execution_count": 30,
   "id": "dab40e37-b130-4550-90f3-377e97859eb7",
   "metadata": {},
   "outputs": [
    {
     "name": "stdout",
     "output_type": "stream",
     "text": [
      "['user1', 'user2', 'user3']\n"
     ]
    }
   ],
   "source": [
    "print(ins)"
   ]
  },
  {
   "cell_type": "code",
   "execution_count": 35,
   "id": "47b598e4-9e49-449b-8670-b9c52b0a2d14",
   "metadata": {},
   "outputs": [],
   "source": [
    "ins.insert(3,'user4')"
   ]
  },
  {
   "cell_type": "code",
   "execution_count": 36,
   "id": "bfd2b5ae-1740-4d7c-8109-510d641708b7",
   "metadata": {},
   "outputs": [
    {
     "name": "stdout",
     "output_type": "stream",
     "text": [
      "['user1', 'user2', 'user3', 'user4']\n"
     ]
    }
   ],
   "source": [
    "print(ins)"
   ]
  },
  {
   "cell_type": "markdown",
   "id": "a65d62a1-d50d-4074-b2f1-cfd79753cdef",
   "metadata": {},
   "source": [
    "## Index \n",
    "* Index function is used to find a element in the list"
   ]
  },
  {
   "cell_type": "code",
   "execution_count": 40,
   "id": "0627acdf-e846-4121-bc72-16df3bfde280",
   "metadata": {},
   "outputs": [],
   "source": [
    "ind = [5,9,2,'name1','name2',100]"
   ]
  },
  {
   "cell_type": "code",
   "execution_count": 41,
   "id": "6a1082c7-4827-4ba2-80ed-93ffacd1055b",
   "metadata": {},
   "outputs": [
    {
     "name": "stdout",
     "output_type": "stream",
     "text": [
      "[5, 9, 2, 'name1', 'name2', 100]\n"
     ]
    }
   ],
   "source": [
    "print(ind)"
   ]
  },
  {
   "cell_type": "code",
   "execution_count": 42,
   "id": "3fa8cb49-375b-4a0c-a7cb-765b9b9d7367",
   "metadata": {},
   "outputs": [
    {
     "data": {
      "text/plain": [
       "4"
      ]
     },
     "execution_count": 42,
     "metadata": {},
     "output_type": "execute_result"
    }
   ],
   "source": [
    "ind.index('name2')"
   ]
  },
  {
   "cell_type": "code",
   "execution_count": 43,
   "id": "dc19478f-d564-4773-9b9c-60cba517eb93",
   "metadata": {},
   "outputs": [
    {
     "data": {
      "text/plain": [
       "5"
      ]
     },
     "execution_count": 43,
     "metadata": {},
     "output_type": "execute_result"
    }
   ],
   "source": [
    "ind.index(100)"
   ]
  },
  {
   "cell_type": "markdown",
   "id": "c0675052-0be7-4885-a9bb-ec237daf3b09",
   "metadata": {},
   "source": [
    "## Sort\n",
    "* Sort function is used sort the elements in the list"
   ]
  },
  {
   "cell_type": "code",
   "execution_count": 44,
   "id": "5892d1db-f291-4e8b-921c-fbedd4aa3676",
   "metadata": {},
   "outputs": [],
   "source": [
    "sr =[21,10,8,64,99,2,11,83,51,1]"
   ]
  },
  {
   "cell_type": "code",
   "execution_count": 45,
   "id": "ae358f6a-b555-4be6-afa9-fc9b15f12e70",
   "metadata": {},
   "outputs": [
    {
     "name": "stdout",
     "output_type": "stream",
     "text": [
      "[21, 10, 8, 64, 99, 2, 11, 83, 51, 1]\n"
     ]
    }
   ],
   "source": [
    "print(sr)"
   ]
  },
  {
   "cell_type": "code",
   "execution_count": 46,
   "id": "13040a97-8230-47ee-b086-3601ac546a33",
   "metadata": {},
   "outputs": [],
   "source": [
    "sr.sort()"
   ]
  },
  {
   "cell_type": "code",
   "execution_count": 47,
   "id": "f7880cee-6b12-416e-9cfc-17f4865ed035",
   "metadata": {},
   "outputs": [
    {
     "name": "stdout",
     "output_type": "stream",
     "text": [
      "[1, 2, 8, 10, 11, 21, 51, 64, 83, 99]\n"
     ]
    }
   ],
   "source": [
    "print(sr)"
   ]
  },
  {
   "cell_type": "markdown",
   "id": "4b84b24a-e43b-4b2a-925c-5e8d0b5aeb05",
   "metadata": {},
   "source": [
    "## Reverse \n",
    "* Reverse function is used to reverse the order of the list"
   ]
  },
  {
   "cell_type": "code",
   "execution_count": 49,
   "id": "2f0ceef7-d872-4194-ab4f-378f824100ad",
   "metadata": {},
   "outputs": [],
   "source": [
    "re = [5,65,20,71,3,30,91]"
   ]
  },
  {
   "cell_type": "code",
   "execution_count": 50,
   "id": "64e99fac-b2d9-4c47-8b51-d90c7f36dfdd",
   "metadata": {},
   "outputs": [
    {
     "name": "stdout",
     "output_type": "stream",
     "text": [
      "[5, 65, 20, 71, 3, 30, 91]\n"
     ]
    }
   ],
   "source": [
    "print(re)"
   ]
  },
  {
   "cell_type": "code",
   "execution_count": 51,
   "id": "e4e3c6d1-a180-4fb9-9573-427c2b93a603",
   "metadata": {},
   "outputs": [],
   "source": [
    "re.sort()\n"
   ]
  },
  {
   "cell_type": "code",
   "execution_count": 52,
   "id": "5d85a12f-1a47-4d17-8dfc-b0e74272c111",
   "metadata": {},
   "outputs": [
    {
     "name": "stdout",
     "output_type": "stream",
     "text": [
      "[3, 5, 20, 30, 65, 71, 91]\n"
     ]
    }
   ],
   "source": [
    "print(re)"
   ]
  },
  {
   "cell_type": "code",
   "execution_count": 54,
   "id": "a9c6f59c-2ef8-4223-8906-d477f64bd3e0",
   "metadata": {},
   "outputs": [],
   "source": [
    "re.reverse()"
   ]
  },
  {
   "cell_type": "code",
   "execution_count": 55,
   "id": "a7d656af-9e30-4b38-9087-7adab7f6886a",
   "metadata": {},
   "outputs": [
    {
     "name": "stdout",
     "output_type": "stream",
     "text": [
      "[91, 71, 65, 30, 20, 5, 3]\n"
     ]
    }
   ],
   "source": [
    "print(re)"
   ]
  },
  {
   "cell_type": "markdown",
   "id": "41c52315-cbb1-4000-8454-c171d835afd4",
   "metadata": {},
   "source": [
    "## Pop\n",
    "* Pop funtion removes and returns a value at a certain index from the list"
   ]
  },
  {
   "cell_type": "code",
   "execution_count": 56,
   "id": "2f8f1d64-7067-4a7d-9384-fa123e716b2d",
   "metadata": {},
   "outputs": [],
   "source": [
    "pp = [12,'user1',42,1,88,'user2']"
   ]
  },
  {
   "cell_type": "code",
   "execution_count": 57,
   "id": "376726cf-5e5e-42ed-943c-89d6594085ae",
   "metadata": {},
   "outputs": [
    {
     "name": "stdout",
     "output_type": "stream",
     "text": [
      "[12, 'user1', 42, 1, 88, 'user2']\n"
     ]
    }
   ],
   "source": [
    "print(pp)"
   ]
  },
  {
   "cell_type": "code",
   "execution_count": 61,
   "id": "6e9f9974-6f4d-49cc-bbbb-f1af6d7f51c1",
   "metadata": {},
   "outputs": [
    {
     "name": "stdout",
     "output_type": "stream",
     "text": [
      "[12, 'user1', 88]\n"
     ]
    }
   ],
   "source": [
    "pp.pop(2)\n",
    "print(pp)"
   ]
  },
  {
   "cell_type": "markdown",
   "id": "f178e8e5-ee59-4d61-a1fa-f13ff1a6a71f",
   "metadata": {},
   "source": [
    "## Count\n",
    "* Count function counts the items in the list , also returns the number of times a specific element is repeated in the list"
   ]
  },
  {
   "cell_type": "code",
   "execution_count": 63,
   "id": "8f6db4c6-241f-4f7f-9730-3a77c9118969",
   "metadata": {},
   "outputs": [],
   "source": [
    "ct = [10,51,'name1',10,1,'name1','name2']"
   ]
  },
  {
   "cell_type": "code",
   "execution_count": 64,
   "id": "83c0d390-13d0-4d6e-9d1e-193a360c63b7",
   "metadata": {},
   "outputs": [
    {
     "name": "stdout",
     "output_type": "stream",
     "text": [
      "[10, 51, 'name1', 10, 1, 'name1', 'name2']\n"
     ]
    }
   ],
   "source": [
    "print(ct)"
   ]
  },
  {
   "cell_type": "code",
   "execution_count": 66,
   "id": "774a0a0e-9494-44d2-9da5-02d98cadd4ca",
   "metadata": {},
   "outputs": [
    {
     "data": {
      "text/plain": [
       "2"
      ]
     },
     "execution_count": 66,
     "metadata": {},
     "output_type": "execute_result"
    }
   ],
   "source": [
    "ct.count(10)"
   ]
  },
  {
   "cell_type": "code",
   "execution_count": 67,
   "id": "59d22a90-f823-49f0-9020-11f83826c347",
   "metadata": {},
   "outputs": [
    {
     "data": {
      "text/plain": [
       "2"
      ]
     },
     "execution_count": 67,
     "metadata": {},
     "output_type": "execute_result"
    }
   ],
   "source": [
    "ct.count('name1')"
   ]
  },
  {
   "cell_type": "markdown",
   "id": "e81f243b-4bda-459c-b947-3e21b2312673",
   "metadata": {},
   "source": [
    "## Extend\n",
    "* Extend function is used to add elements of a list to the end of another list"
   ]
  },
  {
   "cell_type": "code",
   "execution_count": 76,
   "id": "932a39d2-f37b-4537-9040-1c3967c4b5e0",
   "metadata": {},
   "outputs": [],
   "source": [
    "ex = [5,2,10,'name1']"
   ]
  },
  {
   "cell_type": "code",
   "execution_count": 77,
   "id": "ecd03ba6-fea5-4607-b661-33800b5438c0",
   "metadata": {},
   "outputs": [
    {
     "name": "stdout",
     "output_type": "stream",
     "text": [
      "[5, 2, 10, 'name1']\n"
     ]
    }
   ],
   "source": [
    "print(ex)"
   ]
  },
  {
   "cell_type": "code",
   "execution_count": 79,
   "id": "4b4a1eda-3cac-4bb5-950f-5112f4a7be4c",
   "metadata": {},
   "outputs": [],
   "source": [
    "ex.extend([20,30])"
   ]
  },
  {
   "cell_type": "code",
   "execution_count": 80,
   "id": "086a12fd-d376-40c4-aa05-664cc3a428b5",
   "metadata": {},
   "outputs": [
    {
     "name": "stdout",
     "output_type": "stream",
     "text": [
      "[5, 2, 10, 'name1', 20, 30]\n"
     ]
    }
   ],
   "source": [
    "print(ex)"
   ]
  },
  {
   "cell_type": "code",
   "execution_count": null,
   "id": "ee042d94-b1f8-49cf-a334-a670aff61e4f",
   "metadata": {},
   "outputs": [],
   "source": []
  }
 ],
 "metadata": {
  "kernelspec": {
   "display_name": "Python 3 (ipykernel)",
   "language": "python",
   "name": "python3"
  },
  "language_info": {
   "codemirror_mode": {
    "name": "ipython",
    "version": 3
   },
   "file_extension": ".py",
   "mimetype": "text/x-python",
   "name": "python",
   "nbconvert_exporter": "python",
   "pygments_lexer": "ipython3",
   "version": "3.11.7"
  }
 },
 "nbformat": 4,
 "nbformat_minor": 5
}
